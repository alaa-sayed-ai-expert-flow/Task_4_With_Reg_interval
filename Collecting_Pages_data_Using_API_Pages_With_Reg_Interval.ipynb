{
 "cells": [
  {
   "cell_type": "markdown",
   "metadata": {},
   "source": [
    "# **Collecting Pages Data Using APIs**\n"
   ]
  },
  {
   "cell_type": "code",
   "execution_count": 1,
   "metadata": {},
   "outputs": [],
   "source": [
    "import requests \n",
    "import pandas as pd"
   ]
  },
  {
   "cell_type": "code",
   "execution_count": 2,
   "metadata": {},
   "outputs": [],
   "source": [
    "from bs4 import BeautifulSoup"
   ]
  },
  {
   "cell_type": "code",
   "execution_count": 3,
   "metadata": {},
   "outputs": [
    {
     "name": "stderr",
     "output_type": "stream",
     "text": [
      "[nltk_data] Error loading stopwords: <urlopen error [WinError 10060] A\n",
      "[nltk_data]     connection attempt failed because the connected party\n",
      "[nltk_data]     did not properly respond after a period of time, or\n",
      "[nltk_data]     established connection failed because connected host\n",
      "[nltk_data]     has failed to respond>\n",
      "[nltk_data] Downloading package wordnet to C:\\Users\\Alaa\n",
      "[nltk_data]     AI\\AppData\\Roaming\\nltk_data...\n",
      "[nltk_data]   Package wordnet is already up-to-date!\n"
     ]
    }
   ],
   "source": [
    "import re \n",
    "import string \n",
    "import nltk\n",
    "nltk.download('stopwords')\n",
    "nltk.download('wordnet')\n",
    "from nltk.corpus import stopwords"
   ]
  },
  {
   "cell_type": "code",
   "execution_count": 6,
   "metadata": {},
   "outputs": [],
   "source": [
    "def getting_all_meta_tags(response):\n",
    "    soup = BeautifulSoup(response, 'html.parser')\n",
    "\n",
    "    meta_tags = soup.find_all('meta')\n",
    "    metadata = {}\n",
    "    for tag in meta_tags:\n",
    "        print(tag.attrs)\n",
    "        if 'name' in tag.attrs:\n",
    "            name = tag.attrs['name']\n",
    "            content = tag.attrs.get('content')\n",
    "            metadata[name] = content\n",
    "            print(content)\n",
    "        elif 'property' in tag.attrs:  # For OpenGraph metadata\n",
    "            property = tag.attrs['property']\n",
    "            content = tag.attrs.get('content')\n",
    "            metadata[property] = content\n",
    "            print(content)\n",
    "    \n",
    "    # Display the metadata\n",
    "    for key, value in metadata.items():\n",
    "        print(f\"{key}: {value}\")"
   ]
  },
  {
   "cell_type": "code",
   "execution_count": 11,
   "metadata": {},
   "outputs": [],
   "source": [
    "def getting_all_span_tags(response):\n",
    "    soup = BeautifulSoup(response, 'html.parser')\n",
    "\n",
    "    span_tags = soup.find_all('span')\n",
    "    print(span_tags)"
   ]
  },
  {
   "cell_type": "code",
   "execution_count": 13,
   "metadata": {},
   "outputs": [],
   "source": [
    "def html_parser(data):\n",
    "    # html_content = \"\"\"\\u003Cdiv id=\\\"cs-content\\\" class=\\\"cs-content\\\"\\u003E\\u003Cdiv class=\\\"x-section e139043-1 m2zab-0 m2zab-1 dimensions\\\"\\u003E\\u003Cdiv class=\\\"x-bg\\\"\\u003E\\u003Cdiv class=\\\"x-bg-layer-lower-img\\\"\\u003E\\u003Cimg src=\\\"https://www.expertflow.com/wp-content/uploads/Mask-group-4.png\\\" alt=\\\"customer self-service\\\" loading=\\\"lazy\\\" style=\\\"object-fit: cover; object-position: center;\\\"/\\u003E\\u003C/div\\u003E\\u003C/div\\u003E\\u003Cdiv class=\\\"x-row x-container max width e139043-2 m2zab-5\\\"\\u003E\\u003Cdiv class=\\\"x-row-inner\\\"\\u003E\\u003Cdiv class=\\\"x-col e139043-3 m2zab-6\\\"\\u003E\\u003Ch1  class=\\\"h-custom-headline h1w h1\\\" \\u003E\\u003Cspan\\u003EBusiness Analytics & Insights\\u003C/span\\u003E\\u003C/h1\\u003E\\u003Cdiv id=\\\"\\\" class=\\\"x-text bannertextw\\\" style=\\\"\\\" \\u003E\\u003Cp\\u003ESimplify reporting and drive more actionable Insights\\u003C/p\\u003E\\n\\u003C/div\\u003E\\u003Ca class=\\\"x-anchor x-anchor-button e139043-6 m2zab-7 m2zab-8\\\" tabindex=\\\"0\\\" href=\\\"https://www.expertflow.com/contact-us/\\\" rel=\\\"nofollow\\\"\\u003E\\u003Cdiv class=\\\"x-anchor-content\\\"\\u003E\\u003Cdiv class=\\\"x-anchor-text\\\"\\u003E\\u003Cspan class=\\\"x-anchor-text-primary\\\"\\u003EGet in Touch\\u003C/span\\u003E\\u003C/div\\u003E\\u003C/div\\u003E\\u003C/a\\u003E\\u003C/div\\u003E\\u003C/div\\u003E\\u003C/div\\u003E\\u003C/div\\u003E\\u003Cdiv class=\\\"x-section e139043-7 m2zab-0 m2zab-2 m2zab-3\\\"\\u003E\\u003Cdiv class=\\\"x-container max width marginless-columns e139043-8 m2zab-a\\\"\\u003E\\u003Cdiv class=\\\"x-column x-sm x-1-2 e139043-9 m2zab-b feature_box_column leftTxtColPadding maxwidth_col_mobile\\\"\\u003E\\u003Cimg  class=\\\"x-img feature_box_image_mobile imgSmallScreen x-img-none\\\"  src=\\\"https://www.expertflow.com/wp-content/uploads/Group-481918-1.png\\\" \\u003E\\u003Ch3  class=\\\"h-custom-headline font-2023-h3 h3\\\" \\u003E\\u003Cspan\\u003ELeverage valuable insights from your conversation data\\n\\u003C/span\\u003E\\u003C/h3\\u003E\\u003Cdiv id=\\\"\\\" class=\\\"x-text font-2023-text\\\" style=\\\"\\\" \\u003E\\u003Cp\\u003E\\u003Cspan style=\\\"font-weight: 400;\\\"\\u003EWe give you the tools to leverage \\u003C/span\\u003E\\u003Cspan style=\\\"font-weight: 400;\\\"\\u003Ethe conversation data your customers provided or agents and AI engines collected during or after the conversation. Learn about your customers needs and preferences as well as your agents capabilities through:\\u003C/span\\u003E\\u003C/p\\u003E\\n\\u003Cul\\u003E\\n\\u003Cli style=\\\"font-weight: 400;\\\" aria-level=\\\"1\\\"\\u003E\\u003Cspan style=\\\"font-weight: 400;\\\"\\u003Eautomated call tagging/wrap up codes\\u003C/span\\u003E\\u003C/li\\u003E\\n\\u003Cli style=\\\"font-weight: 400;\\\" aria-level=\\\"1\\\"\\u003E\\u003Cspan style=\\\"font-weight: 400;\\\"\\u003Esentiment analysis\\u003C/span\\u003E\\u003C/li\\u003E\\n\\u003Cli style=\\\"font-weight: 400;\\\" aria-level=\\\"1\\\"\\u003E\\u003Ca href=\\\"https://www.expertflow.com/customer-profiles/\\\"\\u003E\\u003Cspan style=\\\"font-weight: 400;\\\"\\u003ECustomer Profile\\u003C/span\\u003E\\u003C/a\\u003E\\u003C/li\\u003E\\n\\u003Cli style=\\\"font-weight: 400;\\\" aria-level=\\\"1\\\"\\u003E\\u003Cspan style=\\\"font-weight: 400;\\\"\\u003EAi generated transcripts/ summaries\\u003C/span\\u003E\\u003C/li\\u003E\\n\\u003Cli style=\\\"font-weight: 400;\\\" aria-level=\\\"1\\\"\\u003E\\u003Cspan style=\\\"font-weight: 400;\\\"\\u003ECustomer Survey\\u003C/span\\u003E\\u003C/li\\u003E\\n\\u003Cli aria-level=\\\"1\\\"\\u003Eand more...\\u003C/li\\u003E\\n\\u003C/ul\\u003E\\n\\u003Cp\\u003E\\u003Cspan style=\\\"font-weight: 400;\\\"\\u003EThe collected data can be used to search, filter or retrieve individual calls or can be aggregated for reporting purposes.\\u003C/span\\u003E\\u003C/p\\u003E\\n\\u003C/div\\u003E\\u003C/div\\u003E\\u003Cdiv class=\\\"x-column x-sm x-1-2 e139043-13 m2zab-b m2zab-c feature_box_column rightImgColPadding hide_col_mobile x-hide-md x-hide-sm x-hide-xs\\\"\\u003E\\u003Cimg  class=\\\"x-img feature_box_image imagezoom feature_box_img_video_right_margin x-img-none\\\" style=\\\"margin: 0px 40px 0px 0px ;\\\" src=\\\"https://www.expertflow.com/wp-content/uploads/Group-481774.png\\\" alt=\\\"ivr\\\"\\u003E\\u003C/div\\u003E\\u003C/div\\u003E\\u003C/div\\u003E\\u003Cdiv class=\\\"x-section e139043-15 m2zab-0 m2zab-2 m2zab-4\\\"\\u003E\\u003Cdiv class=\\\"x-container max width marginless-columns e139043-16 m2zab-a\\\"\\u003E\\u003Cdiv class=\\\"x-column x-sm x-1-2 e139043-17 m2zab-b feature_box_column leftImgColPadding hide_col_mobile x-hide-md x-hide-sm x-hide-xs\\\"\\u003E\\u003Cimg  class=\\\"x-img feature_box_image imagezoom feature_box_img_video_left_margin x-img-none\\\" style=\\\"margin: 0px 40px 0px;\\\" src=\\\"https://www.expertflow.com/wp-content/uploads/Group-481750-1.png\\\" \\u003E\\u003C/div\\u003E\\u003Cdiv class=\\\"x-column x-sm x-1-2 e139043-19 m2zab-b m2zab-c feature_box_column rightTxtColPadding maxwidth_col_mobile\\\"\\u003E\\u003Cimg  class=\\\"x-img feature_box_image_mobile imgSmallScreen x-img-none\\\"  src=\\\"https://www.expertflow.com/wp-content/uploads/Group-481817-2.png\\\" \\u003E\\u003Ch3  class=\\\"h-custom-headline font-2023-h3 h3\\\" \\u003E\\u003Cspan\\u003EAgent Guidance and Customer Satisfaction\\u003C/span\\u003E\\u003C/h3\\u003E\\u003Cdiv id=\\\"\\\" class=\\\"x-text font-2023-text\\\" style=\\\"\\\" \\u003E\\u003Cp\\u003E\\u003Cspan style=\\\"font-weight: 400;\\\"\\u003ERecorded calls can be reviewed by supervisors in order to score an agent’s performance. Post Collaboration Surveys and Sentiment analysis can contextualize a call recording or transcript.\\u003C/span\\u003E\\u003C/p\\u003E\\n\\u003Cp\\u003E\\u003Cspan style=\\\"font-weight: 400;\\\"\\u003EThis data forms the basis for automated post-call processes using AI engines which can contribute valuable insights such as patterns, trends, and areas of strength or weakness.These insights help you refine your ongoing guidance,helping your agents improve their skills over time which can lead to improved customer service.\\u003C/span\\u003E\\u003C/p\\u003E\\n\\u003C/div\\u003E\\u003Ca class=\\\"x-anchor x-anchor-button e139043-23 m2zab-7 m2zab-9\\\" tabindex=\\\"0\\\" href=\\\"https://www.expertflow.com/contact-us/\\\" rel=\\\"nofollow\\\"\\u003E\\u003Cdiv class=\\\"x-anchor-content\\\"\\u003E\\u003Cdiv class=\\\"x-anchor-text\\\"\\u003E\\u003Cspan class=\\\"x-anchor-text-primary\\\"\\u003ETalk to an expert\\u003C/span\\u003E\\u003C/div\\u003E\\u003C/div\\u003E\\u003C/a\\u003E\\u003C/div\\u003E\\u003C/div\\u003E\\u003C/div\\u003E\\u003Cdiv class=\\\"x-section e139043-24 m2zab-0 m2zab-2 m2zab-3\\\"\\u003E\\u003Cdiv class=\\\"x-container max width marginless-columns e139043-25 m2zab-a\\\"\\u003E\\u003Cdiv class=\\\"x-column x-sm x-1-2 e139043-26 m2zab-b feature_box_column leftTxtColPadding maxwidth_col_mobile\\\"\\u003E\\u003Cimg  class=\\\"x-img feature_box_image_mobile imgSmallScreen x-img-none\\\"  src=\\\"https://www.expertflow.com/wp-content/uploads/Group-481918-1.png\\\" \\u003E\\u003Ch3  class=\\\"h-custom-headline font-2023-h3 h3\\\" \\u003E\\u003Cspan\\u003ECustomer Satisfaction\\u003C/span\\u003E\\u003C/h3\\u003E\\u003Cdiv id=\\\"\\\" class=\\\"x-text font-2023-text\\\" style=\\\"\\\" \\u003E\\u003Cp\\u003ELearn about yourself through your customers.\\u003C/p\\u003E\\n\\u003C/div\\u003E\\u003C/div\\u003E\\u003Cdiv class=\\\"x-column x-sm x-1-2 e139043-30 m2zab-b m2zab-c feature_box_column rightImgColPadding hide_col_mobile x-hide-md x-hide-sm x-hide-xs\\\"\\u003E\\u003Cimg  class=\\\"x-img feature_box_image imagezoom feature_box_img_video_right_margin x-img-none\\\" style=\\\"margin: 0px 40px 0px 0px ;\\\" src=\\\"https://www.expertflow.com/wp-content/uploads/Group-6881.png\\\" alt=\\\"ivr\\\"\\u003E\\u003C/div\\u003E\\u003C/div\\u003E\\u003C/div\\u003E\\u003C/div\\u003E\"\"\"\n",
    "    html_content = data\n",
    "    # Assuming your text is stored in a variable called `html_content`\n",
    "    # print(html_content)\n",
    "    soup = BeautifulSoup(html_content, 'html.parser')\n",
    "    \n",
    "    # Get all text content\n",
    "    text = soup.get_text(separator='\\n')\n",
    "    \n",
    "    # Print the cleaned text\n",
    "    return text"
   ]
  },
  {
   "cell_type": "code",
   "execution_count": 14,
   "metadata": {},
   "outputs": [],
   "source": [
    "def clean_text(data):\n",
    "    # Tokenize the text \n",
    "    tokens = nltk.word_tokenize(data)\n",
    "    stop_words = set(stopwords.words('english'))\n",
    "    filtered_tokens = [word for word in tokens if word not in stop_words]\n",
    "    lemmatizer = nltk.WordNetLemmatizer()\n",
    "    lemmatized_tokens = [lemmatizer.lemmatize(token) for token in filtered_tokens]\n",
    "    clean_text = ' '.join(lemmatized_tokens)\n",
    "    return clean_text"
   ]
  },
  {
   "cell_type": "code",
   "execution_count": null,
   "metadata": {},
   "outputs": [],
   "source": [
    "def one_dict(list_dict):\n",
    "    keys=list_dict[0].keys()\n",
    "    out_dict={key:[] for key in keys}\n",
    "    for dict_ in list_dict:\n",
    "        for key, value in dict_.items():\n",
    "            out_dict[key].append(value)\n",
    "    return out_dict "
   ]
  },
  {
   "cell_type": "code",
   "execution_count": null,
   "metadata": {},
   "outputs": [],
   "source": [
    "def save_to_file(data , file_name):\n",
    "    #Exception Handling\n",
    "    #Appending in File\n",
    "    try:\n",
    "        getFile = open(file_name + \".txt\" , \"w\")\n",
    "        getFile.write(data)\n",
    "    except IOError:\n",
    "            print(\"Unable to Open or read the required File.\")\n",
    "    except :\n",
    "        print(\"Some Error has been occured!\")\n",
    "    else :\n",
    "        print(\"The File was read Successfully\")\n",
    "    finally:\n",
    "        getFile.close()\n",
    "        print(\"File now is closed!\")"
   ]
  },
  {
   "cell_type": "code",
   "execution_count": null,
   "metadata": {},
   "outputs": [],
   "source": [
    "def save_docs_to_json(array: [Document], file_path:str)->None:\n",
    "    with open(file_path, 'w') as json_file:\n",
    "        for doc in array:\n",
    "            json_file.write(doc.json() + '\\n')"
   ]
  },
  {
   "cell_type": "code",
   "execution_count": 22,
   "metadata": {},
   "outputs": [],
   "source": [
    "def save_to_file(data , file_name):\n",
    "    try:\n",
    "        os.remove(file_name)\n",
    "        print(f\"'{file_name}.txt' will be updated ...\")\n",
    "    except FileNotFoundError:\n",
    "        print(f\"File '{file_name}' is not existed ... File will be created ...\")\n",
    "    #Exception Handling\n",
    "    #Appending in File\n",
    "    try:\n",
    "        getFile = open(file_name + \".txt\" , \"a+\")\n",
    "        getFile.write(data)\n",
    "    except IOError:\n",
    "            print(\"Unable to Open or read the required File.\")\n",
    "    except :\n",
    "        print(\"Some Error has been occured!\")\n",
    "    else :\n",
    "        print(\"The File was read Successfully\")\n",
    "    finally:\n",
    "        getFile.close()\n",
    "        print(\"File now is closed!\")"
   ]
  },
  {
   "cell_type": "code",
   "execution_count": null,
   "metadata": {},
   "outputs": [],
   "source": [
    "def save_docs_to_json(array: [Document], file_path:str)->None:\n",
    "    with open(file_path, 'w') as json_file:\n",
    "        for doc in array:\n",
    "            json_file.write(doc.json() + '\\n')"
   ]
  },
  {
   "cell_type": "code",
   "execution_count": null,
   "metadata": {},
   "outputs": [],
   "source": [
    "def updating_dataset_w_reg_interval():\n",
    "    after_parser = ''\n",
    "    doc = []\n",
    "    api_url = \"http://expertflow.com/wp-json/wp/v2/pages\" \n",
    "    response = requests.get(api_url) \n",
    "    if response.ok:             \n",
    "        data = response.json() \n",
    "        meta_data = getting_all_meta_tags(response.text)\n",
    "        span_tags = getting_all_span_tags(response.text)\n",
    "        df= pd.DataFrame(one_dict(data))\n",
    "        df.to_csv(\"pages.csv\")\n",
    "        for page_data in range(len(data)):\n",
    "            print(\"Data Page Content # \" , str(page_data+1) , \" : \")\n",
    "            print(\"===============================================\")\n",
    "            after_parser = html_parser(data[page_data].get('content')['rendered']).replace('None' , '')\n",
    "            link = data[0].get('link')\n",
    "            title = data[0].get('title')['rendered']\n",
    "            doc.append(Document(page_content=after_parser, metadata={\"source\" : data_page , \"title\": title , \"link\" : link}))\n",
    "            print(\"Before Perform Cleaning : \")\n",
    "            print(\"===============================================\")\n",
    "            print(after_parser)\n",
    "            save_to_file(after_parser + \"\\n\", \"pages_data_before_cleaning\")\n",
    "            print(\"===============================================\")\n",
    "            print(\"After Perform Cleaning : \")\n",
    "            print(\"===============================================\")\n",
    "            print(clean_text(after_parser))\n",
    "            save_to_file(clean_text(after_parser) + \"\\n\" , \"pages_data_after_cleaning\")\n",
    "        save_docs_to_json(doc , 'pages.json')\n",
    "    else:\n",
    "        print(\"There is a problem while connection...\")"
   ]
  },
  {
   "cell_type": "code",
   "execution_count": 24,
   "metadata": {},
   "outputs": [
    {
     "name": "stdout",
     "output_type": "stream",
     "text": [
      "[]\n"
     ]
    }
   ],
   "source": [
    "print(data[0].get('meta'))"
   ]
  },
  {
   "cell_type": "markdown",
   "metadata": {},
   "source": [
    "# Using Configurable Regular Interval (Datetime Package) :"
   ]
  },
  {
   "cell_type": "code",
   "execution_count": null,
   "metadata": {},
   "outputs": [],
   "source": [
    "from time import sleep\n",
    "from datetime import datetime\n",
    "print(\"Note : 0 = 12Am and 1 = 1Am therefore, 12 = 12pm\")\n",
    "interval = input(\"Enter waiting interval : \")\n",
    "hour_for_update = input(\"Enter the hour for update : \")\n",
    "minute_for_update = input(\"Enter the minutes of update hour : \")\n",
    "while datetime.now().hour == int(hour_for_update) and datetime.now().minute == int(minute_for_update):\n",
    "    updating_dataset_w_reg_interval()\n",
    "    sleep(int(interval))\n",
    "else:\n",
    "    print(\"That is not the available time to update the server...\")"
   ]
  },
  {
   "cell_type": "markdown",
   "metadata": {},
   "source": [
    "# Using Configurable Regular Interval (Schedule Package) :"
   ]
  },
  {
   "cell_type": "code",
   "execution_count": null,
   "metadata": {},
   "outputs": [],
   "source": [
    "#!pip install schedule"
   ]
  },
  {
   "cell_type": "code",
   "execution_count": null,
   "metadata": {},
   "outputs": [],
   "source": [
    "import schedule\n",
    "import time\n",
    "\n",
    "print(\"Note : 00 = 12Am and 01 = 1Am therefore, 12 = 12pm\")\n",
    "interval = input(\"Enter waiting interval : \")\n",
    "hour_for_update = input(\"Enter the hour for update : \")\n",
    "minute_for_update = input(\"Enter the minutes of update hour : \")\n",
    "\n",
    "# Schedule the task to run every day at midnight\n",
    "schedule.every().day.at(hour_for_update+\":\"+minute_for_update).do(updating_dataset_w_reg_interval)\n",
    "\n",
    "while True:\n",
    "    schedule.run_pending()\n",
    "    time.sleep(int(interval))"
   ]
  },
  {
   "cell_type": "markdown",
   "metadata": {},
   "source": [
    "# Using Configurable Regular Interval (Signal Package) Linux or Ubuntu:"
   ]
  },
  {
   "cell_type": "code",
   "execution_count": null,
   "metadata": {},
   "outputs": [],
   "source": [
    "import signal\n",
    "import time\n",
    "# Define a function to handle the alarm signal\n",
    "def handle_alarm(signum, frame):\n",
    "    # Execute the task when the alarm signal is received\n",
    "    updating_dataset_w_reg_interval()\n",
    "# Set up a recurring alarm signal to trigger at midnight\n",
    "def set_alarm():\n",
    "    current_time = time.localtime()\n",
    "    # Calculate the time until midnight\n",
    "    seconds_until_midnight = 24*60*60 - (current_time.tm_hour*60*60 + current_time.tm_min*60 + current_time.tm_sec)\n",
    "    # Set the alarm to trigger at midnight\n",
    "    signal.alarm(seconds_until_midnight)"
   ]
  },
  {
   "cell_type": "code",
   "execution_count": null,
   "metadata": {},
   "outputs": [],
   "source": [
    "# Set the signal handler for the alarm signal\n",
    "signal.signal(signal.SIGALRM, handle_alarm) # To Run on linux\n",
    "\n",
    "# Start the initial alarm\n",
    "set_alarm()"
   ]
  },
  {
   "cell_type": "markdown",
   "metadata": {},
   "source": [
    "# Using Configurable Regular Interval (Signal Package) Windows:"
   ]
  },
  {
   "cell_type": "code",
   "execution_count": null,
   "metadata": {},
   "outputs": [],
   "source": [
    "# Calculate the number of seconds until midnight\n",
    "def seconds_until_midnight():\n",
    "    current_time = time.localtime()\n",
    "    return 24*60*60 - (current_time.tm_hour*60*60 + current_time.tm_min*60 + current_time.tm_sec)\n",
    "\n",
    "# Keep the program running indefinitely\n",
    "while True:\n",
    "    # Get the number of seconds until midnight\n",
    "    sleep_time = seconds_until_midnight()\n",
    "    \n",
    "    # Sleep until midnight\n",
    "    time.sleep(sleep_time)\n",
    "    \n",
    "    # Perform the task\n",
    "    updating_dataset_w_reg_interval()"
   ]
  }
 ],
 "metadata": {
  "kernelspec": {
   "display_name": "Python 3 (ipykernel)",
   "language": "python",
   "name": "python3"
  },
  "language_info": {
   "codemirror_mode": {
    "name": "ipython",
    "version": 3
   },
   "file_extension": ".py",
   "mimetype": "text/x-python",
   "name": "python",
   "nbconvert_exporter": "python",
   "pygments_lexer": "ipython3",
   "version": "3.10.14"
  }
 },
 "nbformat": 4,
 "nbformat_minor": 4
}
